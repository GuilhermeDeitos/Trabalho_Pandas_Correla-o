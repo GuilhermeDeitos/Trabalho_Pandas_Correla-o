{
  "nbformat": 4,
  "nbformat_minor": 5,
  "metadata": {
    "kernelspec": {
      "display_name": "Python 3",
      "language": "python",
      "name": "python3"
    },
    "language_info": {
      "codemirror_mode": {
        "name": "ipython",
        "version": 3
      },
      "file_extension": ".py",
      "mimetype": "text/x-python",
      "name": "python",
      "nbconvert_exporter": "python",
      "pygments_lexer": "ipython3",
      "version": "3.6.8"
    },
    "colab": {
      "name": "Guilherme Augusto Deitos Alves - T2-2.ipynb",
      "provenance": [],
      "collapsed_sections": []
    }
  },
  "cells": [
    {
      "cell_type": "markdown",
      "metadata": {
        "id": "Ytx57tmWIcJ6"
      },
      "source": [
        "# T2-2\n",
        "Resolva os exercícios abaixo utilizando a biblioteca Pandas e calcule os valores e as informações requeridas em cada item."
      ],
      "id": "Ytx57tmWIcJ6"
    },
    {
      "cell_type": "markdown",
      "metadata": {
        "id": "d959f30d"
      },
      "source": [
        "## Exercício 01\n",
        "\n",
        "Um pesquisador deseja verificar se um instrumento para medir a concentração de determinada substância no sangue está bem calibrado. Para isto, ele tomou $15$ amostras de concentrações conhecidas (`X`) e determinou a respectiva concentração através do instrumento (`Y`), obtendo:\n",
        "\n",
        "| | | | | | | | | | | | | | | | |\n",
        "|-|-|-|-|-|-|-|-|-|-|-|-|-|-|-|-|\n",
        "|`X`|2|2|2|4|4|4|6|6|6|8|8|8|10|10|10|\n",
        "|`Y`|2.1|1.8|1.9|4.5|4.2|4|6.2|6|6.5|8.2|7.8|7.7|9.6|10|10.1|\n",
        "\n",
        "Sobre as variáveis `X` e `Y`, responda:\n",
        "- As variáveis estão fortemente ou fracamente correlacionadas? \n",
        "- A correlação é positiva ou negativa?\n",
        "- Apresente o gráfico de dispersão das variáveis.\n",
        "\n",
        "\n",
        "Fonte: Adaptado de (LACHOS, 2007)."
      ],
      "id": "d959f30d"
    },
    {
      "cell_type": "code",
      "metadata": {
        "id": "8e0e9f53",
        "colab": {
          "base_uri": "https://localhost:8080/",
          "height": 514
        },
        "outputId": "6ba64213-2764-4809-90b8-b739ac1f8541"
      },
      "source": [
        "dfconcentracao = pd.DataFrame(\n",
        "    {'x':\n",
        "    {0:2,1:2,2:2,3:4,4:4,5:4,6:6,7:6,8:6,9:8,10:8,11:8,12:10,13:10,14:10}\n",
        "     ,'y':\n",
        "     {0:2.1,1:1.8,2:1.9,3:4.5,4:4.2,5:4,6:6.2,7:6,8:6.5,9:8.2,10:7.8,11:7.7,12:9.6,13:10,14:10.1}\n",
        "})\n",
        "\n",
        "dfconcentracao"
      ],
      "id": "8e0e9f53",
      "execution_count": null,
      "outputs": [
        {
          "output_type": "execute_result",
          "data": {
            "text/html": [
              "<div>\n",
              "<style scoped>\n",
              "    .dataframe tbody tr th:only-of-type {\n",
              "        vertical-align: middle;\n",
              "    }\n",
              "\n",
              "    .dataframe tbody tr th {\n",
              "        vertical-align: top;\n",
              "    }\n",
              "\n",
              "    .dataframe thead th {\n",
              "        text-align: right;\n",
              "    }\n",
              "</style>\n",
              "<table border=\"1\" class=\"dataframe\">\n",
              "  <thead>\n",
              "    <tr style=\"text-align: right;\">\n",
              "      <th></th>\n",
              "      <th>x</th>\n",
              "      <th>y</th>\n",
              "    </tr>\n",
              "  </thead>\n",
              "  <tbody>\n",
              "    <tr>\n",
              "      <th>0</th>\n",
              "      <td>2</td>\n",
              "      <td>2.1</td>\n",
              "    </tr>\n",
              "    <tr>\n",
              "      <th>1</th>\n",
              "      <td>2</td>\n",
              "      <td>1.8</td>\n",
              "    </tr>\n",
              "    <tr>\n",
              "      <th>2</th>\n",
              "      <td>2</td>\n",
              "      <td>1.9</td>\n",
              "    </tr>\n",
              "    <tr>\n",
              "      <th>3</th>\n",
              "      <td>4</td>\n",
              "      <td>4.5</td>\n",
              "    </tr>\n",
              "    <tr>\n",
              "      <th>4</th>\n",
              "      <td>4</td>\n",
              "      <td>4.2</td>\n",
              "    </tr>\n",
              "    <tr>\n",
              "      <th>5</th>\n",
              "      <td>4</td>\n",
              "      <td>4.0</td>\n",
              "    </tr>\n",
              "    <tr>\n",
              "      <th>6</th>\n",
              "      <td>6</td>\n",
              "      <td>6.2</td>\n",
              "    </tr>\n",
              "    <tr>\n",
              "      <th>7</th>\n",
              "      <td>6</td>\n",
              "      <td>6.0</td>\n",
              "    </tr>\n",
              "    <tr>\n",
              "      <th>8</th>\n",
              "      <td>6</td>\n",
              "      <td>6.5</td>\n",
              "    </tr>\n",
              "    <tr>\n",
              "      <th>9</th>\n",
              "      <td>8</td>\n",
              "      <td>8.2</td>\n",
              "    </tr>\n",
              "    <tr>\n",
              "      <th>10</th>\n",
              "      <td>8</td>\n",
              "      <td>7.8</td>\n",
              "    </tr>\n",
              "    <tr>\n",
              "      <th>11</th>\n",
              "      <td>8</td>\n",
              "      <td>7.7</td>\n",
              "    </tr>\n",
              "    <tr>\n",
              "      <th>12</th>\n",
              "      <td>10</td>\n",
              "      <td>9.6</td>\n",
              "    </tr>\n",
              "    <tr>\n",
              "      <th>13</th>\n",
              "      <td>10</td>\n",
              "      <td>10.0</td>\n",
              "    </tr>\n",
              "    <tr>\n",
              "      <th>14</th>\n",
              "      <td>10</td>\n",
              "      <td>10.1</td>\n",
              "    </tr>\n",
              "  </tbody>\n",
              "</table>\n",
              "</div>"
            ],
            "text/plain": [
              "     x     y\n",
              "0    2   2.1\n",
              "1    2   1.8\n",
              "2    2   1.9\n",
              "3    4   4.5\n",
              "4    4   4.2\n",
              "5    4   4.0\n",
              "6    6   6.2\n",
              "7    6   6.0\n",
              "8    6   6.5\n",
              "9    8   8.2\n",
              "10   8   7.8\n",
              "11   8   7.7\n",
              "12  10   9.6\n",
              "13  10  10.0\n",
              "14  10  10.1"
            ]
          },
          "metadata": {},
          "execution_count": 3
        }
      ]
    },
    {
      "cell_type": "code",
      "metadata": {
        "colab": {
          "base_uri": "https://localhost:8080/"
        },
        "id": "9G5girUSbSC7",
        "outputId": "9081df43-4374-46c4-8dcb-5810a3ea1ada"
      },
      "source": [
        "SubsX = dfconcentracao['x']\n",
        "SubsY = dfconcentracao['y']\n",
        "r = SubsX.corr(SubsY)\n",
        "print(r)\n"
      ],
      "id": "9G5girUSbSC7",
      "execution_count": null,
      "outputs": [
        {
          "output_type": "stream",
          "text": [
            "0.9960837948733587\n"
          ],
          "name": "stdout"
        }
      ]
    },
    {
      "cell_type": "markdown",
      "metadata": {
        "id": "mV5rv6vabqqn"
      },
      "source": [
        "Como o resultado está próximo de 1 e é maior que 0 podemos dizer que essas substancias são fortemente correlacionadas e que essa correlação é positiva(diretamente proporcional)"
      ],
      "id": "mV5rv6vabqqn"
    },
    {
      "cell_type": "code",
      "metadata": {
        "colab": {
          "base_uri": "https://localhost:8080/",
          "height": 296
        },
        "id": "UQuguK_ucDFp",
        "outputId": "d699473d-1f22-4d9d-c066-d58a0491554c"
      },
      "source": [
        "dfconcentracao.plot.scatter('x','y')"
      ],
      "id": "UQuguK_ucDFp",
      "execution_count": null,
      "outputs": [
        {
          "output_type": "execute_result",
          "data": {
            "text/plain": [
              "<matplotlib.axes._subplots.AxesSubplot at 0x7f7a2e76b7d0>"
            ]
          },
          "metadata": {},
          "execution_count": 7
        },
        {
          "output_type": "display_data",
          "data": {
            "image/png": "[encoded data removed]",
            "text/plain": [
              "<Figure size 432x288 with 1 Axes>"
            ]
          },
          "metadata": {
            "needs_background": "light"
          }
        }
      ]
    },
    {
      "cell_type": "markdown",
      "metadata": {
        "id": "fJ9zqKrwcMxN"
      },
      "source": [
        "Grafico dessa correlação que comprova o que foi dito acima"
      ],
      "id": "fJ9zqKrwcMxN"
    },
    {
      "cell_type": "markdown",
      "metadata": {
        "id": "5ac30c7f"
      },
      "source": [
        "## Exercício 02\n",
        "Carregue a base de dados `alugueis`, e reponda as questões a seguir.\n",
        "```python\n",
        "import pandas as pd\n",
        "#No Colab:\n",
        "from google.colab import drive\n",
        "drive.mount('/drive')\n",
        "alugueis = pd.read_csv('/drive/Shared drives/BasesPublicas/Exemplos/alugueis.csv', sep=',', encoding='latin1')\n",
        "#No Jupyter:\n",
        "# alugueis = pd.read_csv('alugueis.csv', sep=',', encoding='latin1')\n",
        "alugueis.head()\n",
        "```\n",
        "Fonte da base: Adaptada de (JUNIOR, 2020)."
      ],
      "id": "5ac30c7f"
    },
    {
      "cell_type": "code",
      "metadata": {
        "id": "43ed3112",
        "colab": {
          "base_uri": "https://localhost:8080/",
          "height": 221
        },
        "outputId": "d0e0db72-749d-446b-ecb7-ef686927b3e9"
      },
      "source": [
        "import pandas as pd\n",
        "from google.colab import drive\n",
        "drive.mount('/drive')\n",
        "alugueis = pd.read_csv('/drive/Shared drives/BasesPublicas/Bases/Exemplos/alugueis.csv', sep=',', encoding='utf-8')\n",
        "alugueis.head()"
      ],
      "id": "43ed3112",
      "execution_count": null,
      "outputs": [
        {
          "output_type": "stream",
          "text": [
            "Mounted at /drive\n"
          ],
          "name": "stdout"
        },
        {
          "output_type": "execute_result",
          "data": {
            "text/html": [
              "<div>\n",
              "<style scoped>\n",
              "    .dataframe tbody tr th:only-of-type {\n",
              "        vertical-align: middle;\n",
              "    }\n",
              "\n",
              "    .dataframe tbody tr th {\n",
              "        vertical-align: top;\n",
              "    }\n",
              "\n",
              "    .dataframe thead th {\n",
              "        text-align: right;\n",
              "    }\n",
              "</style>\n",
              "<table border=\"1\" class=\"dataframe\">\n",
              "  <thead>\n",
              "    <tr style=\"text-align: right;\">\n",
              "      <th></th>\n",
              "      <th>Cidade</th>\n",
              "      <th>Area</th>\n",
              "      <th>Quartos</th>\n",
              "      <th>Banheiros</th>\n",
              "      <th>Vagas</th>\n",
              "      <th>Andar</th>\n",
              "      <th>Animais</th>\n",
              "      <th>Mobilia</th>\n",
              "      <th>Condominio</th>\n",
              "      <th>Aluguel</th>\n",
              "      <th>IPTU</th>\n",
              "      <th>Seguro Incendio</th>\n",
              "      <th>Total</th>\n",
              "    </tr>\n",
              "  </thead>\n",
              "  <tbody>\n",
              "    <tr>\n",
              "      <th>0</th>\n",
              "      <td>São Paulo</td>\n",
              "      <td>70</td>\n",
              "      <td>2</td>\n",
              "      <td>1</td>\n",
              "      <td>1</td>\n",
              "      <td>7</td>\n",
              "      <td>1</td>\n",
              "      <td>1</td>\n",
              "      <td>2065</td>\n",
              "      <td>3300</td>\n",
              "      <td>211</td>\n",
              "      <td>42</td>\n",
              "      <td>5618</td>\n",
              "    </tr>\n",
              "    <tr>\n",
              "      <th>1</th>\n",
              "      <td>São Paulo</td>\n",
              "      <td>320</td>\n",
              "      <td>4</td>\n",
              "      <td>4</td>\n",
              "      <td>0</td>\n",
              "      <td>20</td>\n",
              "      <td>1</td>\n",
              "      <td>0</td>\n",
              "      <td>1200</td>\n",
              "      <td>4960</td>\n",
              "      <td>1750</td>\n",
              "      <td>63</td>\n",
              "      <td>7973</td>\n",
              "    </tr>\n",
              "    <tr>\n",
              "      <th>2</th>\n",
              "      <td>Porto Alegre</td>\n",
              "      <td>80</td>\n",
              "      <td>1</td>\n",
              "      <td>1</td>\n",
              "      <td>1</td>\n",
              "      <td>6</td>\n",
              "      <td>1</td>\n",
              "      <td>0</td>\n",
              "      <td>1000</td>\n",
              "      <td>2800</td>\n",
              "      <td>0</td>\n",
              "      <td>41</td>\n",
              "      <td>3841</td>\n",
              "    </tr>\n",
              "    <tr>\n",
              "      <th>3</th>\n",
              "      <td>Porto Alegre</td>\n",
              "      <td>51</td>\n",
              "      <td>2</td>\n",
              "      <td>1</td>\n",
              "      <td>0</td>\n",
              "      <td>2</td>\n",
              "      <td>1</td>\n",
              "      <td>0</td>\n",
              "      <td>270</td>\n",
              "      <td>1112</td>\n",
              "      <td>22</td>\n",
              "      <td>17</td>\n",
              "      <td>1421</td>\n",
              "    </tr>\n",
              "    <tr>\n",
              "      <th>4</th>\n",
              "      <td>São Paulo</td>\n",
              "      <td>25</td>\n",
              "      <td>1</td>\n",
              "      <td>1</td>\n",
              "      <td>0</td>\n",
              "      <td>1</td>\n",
              "      <td>0</td>\n",
              "      <td>0</td>\n",
              "      <td>0</td>\n",
              "      <td>800</td>\n",
              "      <td>25</td>\n",
              "      <td>11</td>\n",
              "      <td>836</td>\n",
              "    </tr>\n",
              "  </tbody>\n",
              "</table>\n",
              "</div>"
            ],
            "text/plain": [
              "         Cidade  Area  Quartos  ...  IPTU  Seguro Incendio Total\n",
              "0     São Paulo    70        2  ...   211               42  5618\n",
              "1     São Paulo   320        4  ...  1750               63  7973\n",
              "2  Porto Alegre    80        1  ...     0               41  3841\n",
              "3  Porto Alegre    51        2  ...    22               17  1421\n",
              "4     São Paulo    25        1  ...    25               11   836\n",
              "\n",
              "[5 rows x 13 columns]"
            ]
          },
          "metadata": {},
          "execution_count": 2
        }
      ]
    },
    {
      "cell_type": "markdown",
      "metadata": {
        "id": "7d3afa93"
      },
      "source": [
        "1. O que influencia mais o valor do aluguel? A área do imóvel ou o número de banheiros?\n",
        "1. O que influencia mais no valor da taxa de condominio: o número de vagas de garagem ou o número de quartos? Essa correlação é significativa?\n",
        "1. Qual variável está mais correlacionada com a área do imóvel: o número de vagas na garagem ou o número de banheiros?\n",
        "1. Na base, podemos considerar que as casas possuem andar como '-'. Considere que os que os **registros que possuem valor para o andar são apartamentos**. Desta forma, responda:\n",
        "    1. O valor aluguel é maior ou menor nos andares mais altos?\n",
        "        1. Podemos dizer que isso acontece? A correlação é significativa?\n",
        "        1. Faça o gráfico de dispersão, considerando número do andar e valor do aluguel."
      ],
      "id": "7d3afa93"
    },
    {
      "cell_type": "code",
      "metadata": {
        "id": "6578be06",
        "colab": {
          "base_uri": "https://localhost:8080/"
        },
        "outputId": "c449a291-6e3e-4104-c5b8-d1da0d1476da"
      },
      "source": [
        "banheiros = alugueis['Banheiros']\n",
        "area = alugueis['Area']\n",
        "aluguel = alugueis['Aluguel']\n",
        "\n",
        "r1 = area.corr(aluguel)\n",
        "\n",
        "r2 = banheiros.corr(aluguel)\n",
        "\n",
        "print(f'Correlação entre banheiros e aluguel:{r2}\\nCorrelação entre area e aluguel:{r1} ')"
      ],
      "id": "6578be06",
      "execution_count": null,
      "outputs": [
        {
          "output_type": "stream",
          "text": [
            "Correlação entre banheiros e aluguel:0.6685043667013906\n",
            "Correlação entre area e aluguel:0.18074233055311786 \n"
          ],
          "name": "stdout"
        }
      ]
    },
    {
      "cell_type": "markdown",
      "metadata": {
        "id": "RUO2OiDudxqy"
      },
      "source": [
        "O numero de banheiros influencia mais que a área do imóvel no valor do aluguel\n"
      ],
      "id": "RUO2OiDudxqy"
    },
    {
      "cell_type": "code",
      "metadata": {
        "id": "Ux7lcpL6Jqtt",
        "colab": {
          "base_uri": "https://localhost:8080/"
        },
        "outputId": "6271894a-9475-4605-ebe3-1c160c55eb6f"
      },
      "source": [
        "vagas = alugueis['Vagas']\n",
        "quartos = alugueis['Quartos']\n",
        "valCondominio = alugueis['Condominio']\n",
        "\n",
        "r1 = vagas.corr(valCondominio)\n",
        "\n",
        "r2 = quartos.corr(valCondominio)\n",
        "\n",
        "print(f'Correlação entre a quantidade de quartos e valor do condominio:{r2}\\nCorrelação entre vagas de estacionamento e valor do condominio:{r1} ')"
      ],
      "id": "Ux7lcpL6Jqtt",
      "execution_count": null,
      "outputs": [
        {
          "output_type": "stream",
          "text": [
            "Correlação entre a quantidade de quartos e valor do condominio:0.007138618515731225\n",
            "Correlação entre vagas de estacionamento e valor do condominio:0.009321437212563004 \n"
          ],
          "name": "stdout"
        }
      ]
    },
    {
      "cell_type": "markdown",
      "metadata": {
        "id": "Y4DVeEOyezj6"
      },
      "source": [
        "Entre essas duas correlações a da quantidade de vagas é mais significante que a da quantidade de quartos na influencia do valor do condominio, contudo, nenhuma dessas duas correlações tem um valor significativo para que sejam levadas em consideração tendo em vista que ambas são muito próximas de 0."
      ],
      "id": "Y4DVeEOyezj6"
    },
    {
      "cell_type": "code",
      "metadata": {
        "id": "GjB1FjU0JrAG",
        "colab": {
          "base_uri": "https://localhost:8080/"
        },
        "outputId": "79c0ddb1-d9dd-4909-a400-8ff8a16a6a4d"
      },
      "source": [
        "r1 = vagas.corr(area)\n",
        "\n",
        "r2 = banheiros.corr(area)\n",
        "\n",
        "print(f'Correlação entre área do imóvel e quantidade de banheiros:{r2}\\nCorrelação entre área do imóvel e quantidade de vagas:{r1} ')"
      ],
      "id": "GjB1FjU0JrAG",
      "execution_count": null,
      "outputs": [
        {
          "output_type": "stream",
          "text": [
            "Correlação entre área do imóvel e quantidade de banheiros:0.22676561953818103\n",
            "Correlação entre área do imóvel e quantidade de vagas:0.19398335581394957 \n"
          ],
          "name": "stdout"
        }
      ]
    },
    {
      "cell_type": "markdown",
      "metadata": {
        "id": "24Kwlnj9f5gS"
      },
      "source": [
        "A quantidade de banheiros tem um valor levemente maior, logo é a variavel mais correlacionada."
      ],
      "id": "24Kwlnj9f5gS"
    },
    {
      "cell_type": "code",
      "metadata": {
        "id": "uPIY7ocVJrRw",
        "colab": {
          "base_uri": "https://localhost:8080/"
        },
        "outputId": "b2fc257b-05ec-4b18-86dc-89ca1f802c3d"
      },
      "source": [
        "andar = alugueis['Andar']\n",
        "numAndar = []\n",
        "for i in range(0,len(andar)):\n",
        "  if andar[i] == '-':\n",
        "    andar[i] = 0\n",
        "  numAndar.append(int(andar[i]))\n",
        "\n",
        "dfnumAndar = pd.Series(numAndar)\n",
        "r = dfnumAndar.corr(aluguel)\n",
        "print(r)\n"
      ],
      "id": "uPIY7ocVJrRw",
      "execution_count": null,
      "outputs": [
        {
          "output_type": "stream",
          "text": [
            "0.07359627920565286\n"
          ],
          "name": "stdout"
        }
      ]
    },
    {
      "cell_type": "markdown",
      "metadata": {
        "id": "ZnQVwtmrnlM9"
      },
      "source": [
        "Como podemos ver a relação entre o andar e o valor do aluguel é praticamente irrelevante"
      ],
      "id": "ZnQVwtmrnlM9"
    },
    {
      "cell_type": "code",
      "metadata": {
        "colab": {
          "base_uri": "https://localhost:8080/",
          "height": 296
        },
        "id": "9z2wGexSnji9",
        "outputId": "26501ad6-d36c-4c57-9bee-880eec927737"
      },
      "source": [
        "alugueis.plot.scatter('Andar','Aluguel')\n"
      ],
      "id": "9z2wGexSnji9",
      "execution_count": null,
      "outputs": [
        {
          "output_type": "execute_result",
          "data": {
            "text/plain": [
              "<matplotlib.axes._subplots.AxesSubplot at 0x7f7a2d792110>"
            ]
          },
          "metadata": {},
          "execution_count": 61
        },
        {
          "output_type": "display_data",
          "data": {
            "image/png": "[encoded data removed]",
            "text/plain": [
              "<Figure size 432x288 with 1 Axes>"
            ]
          },
          "metadata": {
            "needs_background": "light"
          }
        }
      ]
    },
    {
      "cell_type": "markdown",
      "metadata": {
        "id": "JxVn92bPny5C"
      },
      "source": [
        "No grafico podemos ver que o apartamento no andar mais alto não é necessariamente o mais caro, sendo até consideravelmente barato em comparação aos outros"
      ],
      "id": "JxVn92bPny5C"
    },
    {
      "cell_type": "code",
      "metadata": {
        "id": "E_NV5cDgnyV5",
        "colab": {
          "base_uri": "https://localhost:8080/"
        },
        "outputId": "0884f5f4-be42-4e89-b04e-dfdb161f8b20"
      },
      "source": [
        "dic = {'nome': \"Pedro\",\"idade\": 17,\"nota\": 5.4}\n",
        "\n",
        "for k,v in dic.items():\n",
        "  print(f'{k} : {v}')"
      ],
      "id": "E_NV5cDgnyV5",
      "execution_count": null,
      "outputs": [
        {
          "output_type": "stream",
          "name": "stdout",
          "text": [
            "nome : Pedro\n",
            "idade : 17\n",
            "nota : 5.4\n"
          ]
        }
      ]
    },
    {
      "cell_type": "markdown",
      "metadata": {
        "id": "9TIq8W22eorU"
      },
      "source": [
        ""
      ],
      "id": "9TIq8W22eorU"
    },
    {
      "cell_type": "markdown",
      "metadata": {
        "id": "15475d3b"
      },
      "source": [
        "## Referências\n",
        "\n",
        "[LACHOS, H. Estatística para experimentalistas: Notas de aula. Unicamp, 2007.](http://www.ime.unicamp.br/~hlachos/ME414_2007.html)  \n",
        "[JUNIOR, R. *brazilian_houses_to_rent*. Kaggle, 2020](https://www.kaggle.com/rubenssjr/brasilian-houses-to-rent/metadata)  \n",
        "\n"
      ],
      "id": "15475d3b"
    }
  ]
}